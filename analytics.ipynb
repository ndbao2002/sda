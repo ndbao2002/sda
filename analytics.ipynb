{
 "cells": [
  {
   "cell_type": "code",
   "execution_count": null,
   "id": "3cb98845",
   "metadata": {},
   "outputs": [],
   "source": [
    "import pandas as pd\n",
    "import numpy as np\n",
    "import matplotlib.pyplot as plt"
   ]
  },
  {
   "cell_type": "markdown",
   "id": "46b86859",
   "metadata": {},
   "source": [
    "### Listing"
   ]
  },
  {
   "cell_type": "code",
   "execution_count": null,
   "id": "0ed83056",
   "metadata": {},
   "outputs": [],
   "source": [
    "cols = [\n",
    "    'id', 'host_id', 'neighbourhood_cleansed',\n",
    "    'latitude', 'longitude', 'room_type', 'accommodates',\n",
    "    'price', 'minimum_nights', 'number_of_reviews', 'review_scores_rating',\n",
    "    'last_review', 'reviews_per_month', 'calculated_host_listings_count',\n",
    "    'calculated_host_listings_count_entire_homes', 'calculated_host_listings_count_private_rooms',\n",
    "    'calculated_host_listings_count_shared_rooms', 'host_listings_count', 'host_is_superhost',\n",
    "    'amenities', 'last_scraped', 'license', 'availability_365'\n",
    "]\n",
    "\n",
    "df = pd.read_csv('./airbnb_data/listings_truncated/2024-12-07_listings.csv', usecols=cols, low_memory=False)\n",
    "listings = df.copy()"
   ]
  },
  {
   "cell_type": "code",
   "execution_count": null,
   "id": "87f948cd",
   "metadata": {},
   "outputs": [],
   "source": [
    "listings.head()"
   ]
  },
  {
   "cell_type": "code",
   "execution_count": null,
   "id": "a5c34161",
   "metadata": {},
   "outputs": [],
   "source": [
    "listings.isnull().sum()"
   ]
  },
  {
   "cell_type": "code",
   "execution_count": null,
   "id": "774f381b",
   "metadata": {},
   "outputs": [],
   "source": [
    "# Clean price\n",
    "listings['price'] = listings['price'].replace('[\\$,]', '', regex=True).astype(float)\n",
    "\n",
    "# Clean superhost flag\n",
    "listings['host_is_superhost'] = listings['host_is_superhost'].fillna('f')\n",
    "\n",
    "# Fill missing reviews info\n",
    "listings['reviews_per_month'] = listings['reviews_per_month'].fillna(0)\n",
    "listings['number_of_reviews'] = listings['number_of_reviews'].fillna(0)\n",
    "\n",
    "# Replace NaN in rating (optional: set 0 or median)\n",
    "listings['review_scores_rating'] = listings['review_scores_rating'].fillna(listings['review_scores_rating'].median())"
   ]
  },
  {
   "cell_type": "code",
   "execution_count": null,
   "id": "7bbae865",
   "metadata": {},
   "outputs": [],
   "source": [
    "# Plot histogram of minimum nights\n",
    "plt.figure(figsize=(10, 6))\n",
    "plt.hist(listings['minimum_nights'].dropna(), bins=30, color='blue', edgecolor='black')\n",
    "plt.title('Distribution of Minimum Nights')\n",
    "plt.xlabel('Minimum Nights')\n",
    "plt.ylabel('Number of Listings')\n",
    "plt.grid(axis='y', alpha=0.75)\n",
    "plt.show()"
   ]
  },
  {
   "cell_type": "code",
   "execution_count": null,
   "id": "7cbfcb54",
   "metadata": {},
   "outputs": [],
   "source": [
    "# Remove extreme outliers (minimum_nights over 99 percentile)\n",
    "min_nights_threshold = 30 # common Airbnb minimum nights for short-term rentals\n",
    "min_nights_covered = listings[listings['minimum_nights'] <= min_nights_threshold]\n",
    "plt.figure(figsize=(10, 6))\n",
    "plt.hist(min_nights_covered['minimum_nights'].dropna(), bins=30, color='blue', edgecolor='black')\n",
    "plt.title('Distribution of Minimum Nights (After Removing Outliers)')\n",
    "plt.xlabel('Minimum Nights')\n",
    "plt.ylabel('Number of Listings')\n",
    "plt.xlim(0, min_nights_threshold)  # Limit x-axis to focus on lower prices\n",
    "plt.grid(axis='y', alpha=0.75)\n",
    "plt.show()"
   ]
  },
  {
   "cell_type": "code",
   "execution_count": null,
   "id": "ea068d64",
   "metadata": {},
   "outputs": [],
   "source": [
    "# Plot histogram of price distribution\n",
    "plt.figure(figsize=(10, 6))\n",
    "plt.hist(listings['price'].dropna(), bins=100, color='blue', edgecolor='black')\n",
    "plt.title('Distribution of Listing Prices')\n",
    "plt.xlabel('Price')\n",
    "plt.ylabel('Number of Listings')\n",
    "plt.grid(axis='y', alpha=0.75)\n",
    "plt.show()"
   ]
  },
  {
   "cell_type": "code",
   "execution_count": null,
   "id": "6674fb74",
   "metadata": {},
   "outputs": [],
   "source": [
    "# Remove extreme outliers (prices above 99 percentile)\n",
    "price_threshold = listings['price'].quantile(0.99)\n",
    "price_covered = listings[listings['price'] <= price_threshold]\n",
    "plt.figure(figsize=(10, 6))\n",
    "plt.hist(price_covered['price'].dropna(), bins=100, color='blue', edgecolor='black')\n",
    "plt.title('Distribution of Listing Prices (After Removing Outliers)')\n",
    "plt.xlabel('Price')\n",
    "plt.ylabel('Number of Listings')\n",
    "plt.xlim(0, price_threshold)  # Limit x-axis to focus on lower prices\n",
    "plt.grid(axis='y', alpha=0.75)\n",
    "plt.show()"
   ]
  },
  {
   "cell_type": "code",
   "execution_count": null,
   "id": "cf90c5e6",
   "metadata": {},
   "outputs": [],
   "source": [
    "# Then should remove outliers in further analysis\n",
    "listings = listings[listings['minimum_nights'] <= min_nights_threshold]\n",
    "listings = listings[listings['price'] <= price_threshold]"
   ]
  },
  {
   "cell_type": "code",
   "execution_count": null,
   "id": "633098ec",
   "metadata": {},
   "outputs": [],
   "source": [
    "# Total removed listings\n",
    "print(f\"Total listings before outlier removal: {len(df)}\")\n",
    "print(f\"Total listings after outlier removal: {len(listings)}\")\n",
    "print(f\"Total listings removed: {len(df) - len(listings)}\")"
   ]
  },
  {
   "cell_type": "code",
   "execution_count": null,
   "id": "4696eff7",
   "metadata": {},
   "outputs": [],
   "source": [
    "listings.describe()"
   ]
  },
  {
   "cell_type": "code",
   "execution_count": null,
   "id": "0372426e",
   "metadata": {},
   "outputs": [],
   "source": [
    "# Some feature engineering can be done here\n",
    "listings['multi_host_flag'] = (listings['calculated_host_listings_count'] > 1).astype(int)\n",
    "listings['price_per_accommodate'] = listings['price'] / listings['accommodates']"
   ]
  },
  {
   "cell_type": "code",
   "execution_count": null,
   "id": "7fb4dbed",
   "metadata": {},
   "outputs": [],
   "source": [
    "agg = listings.groupby('neighbourhood_cleansed').agg(\n",
    "    n_listings=('id', 'count'),\n",
    "    avg_price=('price', 'mean'),\n",
    "    median_price=('price', 'median'),\n",
    "    avg_price_per_person=('price_per_accommodate', 'mean'),\n",
    "    pct_entire_home=('room_type', lambda x: (x=='Entire home/apt').mean()*100),\n",
    "    pct_superhost=('host_is_superhost', lambda x: (x=='t').mean()*100),\n",
    "    avg_availability=('availability_365', 'mean'),\n",
    "    avg_rating=('review_scores_rating', 'mean'),\n",
    "    avg_reviews=('number_of_reviews', 'mean'),\n",
    "    avg_min_nights=('minimum_nights', 'mean'),\n",
    "    pct_multi_host=('multi_host_flag', 'mean')\n",
    ").reset_index()\n",
    "agg['snapshot_date'] = '2025-03'"
   ]
  },
  {
   "cell_type": "code",
   "execution_count": null,
   "id": "f4141341",
   "metadata": {},
   "outputs": [],
   "source": [
    "agg"
   ]
  },
  {
   "cell_type": "markdown",
   "id": "e6f236c3",
   "metadata": {},
   "source": [
    "### Calendar"
   ]
  },
  {
   "cell_type": "code",
   "execution_count": null,
   "id": "2773ace1",
   "metadata": {},
   "outputs": [],
   "source": [
    "df = pd.read_csv('./airbnb_data/calendar_truncated/2024-12-07_calendar.csv', low_memory=False)\n",
    "\n",
    "df.head()"
   ]
  },
  {
   "cell_type": "code",
   "execution_count": null,
   "id": "575f87f9",
   "metadata": {},
   "outputs": [],
   "source": [
    "# Great, sign of safely aggregating data\n",
    "df.isnull().sum()"
   ]
  },
  {
   "cell_type": "markdown",
   "id": "412a2982",
   "metadata": {},
   "source": [
    "### Geo"
   ]
  },
  {
   "cell_type": "code",
   "execution_count": null,
   "id": "84111196",
   "metadata": {},
   "outputs": [],
   "source": [
    "import geopandas as gpd\n",
    "import pandas as pd\n",
    "import numpy as np\n",
    "import matplotlib.pyplot as plt"
   ]
  },
  {
   "cell_type": "code",
   "execution_count": null,
   "id": "a778d8e5",
   "metadata": {},
   "outputs": [],
   "source": [
    "# Load geojson file for neighbourhoods\n",
    "geo = gpd.read_file('./airbnb_data/neighbourhoods.geojson')\n",
    "\n",
    "# Project to meters system for accurate area calculation\n",
    "geo = geo.to_crs(epsg=3857)\n",
    "\n",
    "# Dissolve to get area per neighbourhood\n",
    "geo_dissolved = geo.dissolve(by='neighbourhood', as_index=False)\n",
    "\n",
    "# Calculate area in square kilometers\n",
    "geo_dissolved['area_km2'] = geo_dissolved['geometry'].area / 10**6"
   ]
  },
  {
   "cell_type": "code",
   "execution_count": null,
   "id": "ebc29c39",
   "metadata": {},
   "outputs": [],
   "source": [
    "df = pd.read_csv('./airbnb_data/airbnb_neighbourhood_summary.csv')\n",
    "\n",
    "merged = geo_dissolved.merge(df, left_on='neighbourhood', right_on='neighbourhood_cleansed', how='right')\n",
    "\n",
    "# Calculate density metrics\n",
    "merged[\"density_listings_per_km2\"] = merged[\"n_listings\"] / merged[\"area_km2\"]\n",
    "\n",
    "# Calculate log density metrics to reduce skewness\n",
    "merged[\"log_density\"] = np.log1p(merged[\"density_listings_per_km2\"])"
   ]
  },
  {
   "cell_type": "code",
   "execution_count": null,
   "id": "5b3bf2d9",
   "metadata": {},
   "outputs": [],
   "source": [
    "fig, axes = plt.subplots(figsize=(8,8))\n",
    "snapshot_date = merged['snapshot_date'].unique()[0]\n",
    "merged_snapshot = merged[merged['snapshot_date'] == snapshot_date]\n",
    "merged_snapshot.plot(\n",
    "    column='n_listings',\n",
    "    cmap='OrRd',\n",
    "    linewidth=0.8,\n",
    "    edgecolor='0.8',\n",
    "    legend=True,\n",
    "    ax=axes\n",
    ")\n",
    "axes.set_title(f\"Total listings per neighborhood - Venice - {snapshot_date}\", fontsize=14)\n",
    "axes.axis('off')\n",
    "plt.show()"
   ]
  },
  {
   "cell_type": "code",
   "execution_count": null,
   "id": "20778d75",
   "metadata": {},
   "outputs": [],
   "source": [
    "fig, axes = plt.subplots(figsize=(8,8))\n",
    "snapshot_date = merged['snapshot_date'].unique()[0]\n",
    "merged_snapshot = merged[merged['snapshot_date'] == snapshot_date]\n",
    "merged_snapshot.plot(\n",
    "    column='density_listings_per_km2',\n",
    "    cmap='OrRd',\n",
    "    linewidth=0.8,\n",
    "    edgecolor='0.8',\n",
    "    legend=True,\n",
    "    ax=axes\n",
    ")\n",
    "axes.set_title(f\"Listing Density per km - Venice - {snapshot_date}\", fontsize=14)\n",
    "axes.axis('off')\n",
    "plt.show()"
   ]
  },
  {
   "cell_type": "code",
   "execution_count": null,
   "id": "f48528d4",
   "metadata": {},
   "outputs": [],
   "source": [
    "fig, axes = plt.subplots(figsize=(8,8))\n",
    "snapshot_date = merged['snapshot_date'].unique()[0]\n",
    "merged_snapshot = merged[merged['snapshot_date'] == snapshot_date]\n",
    "merged_snapshot.plot(\n",
    "    column='log_density',\n",
    "    cmap='OrRd',\n",
    "    linewidth=0.8,\n",
    "    edgecolor='0.8',\n",
    "    legend=True,\n",
    "    ax=axes\n",
    ")\n",
    "axes.set_title(f\"Listing Density per km - Venice - {snapshot_date}\", fontsize=14)\n",
    "axes.axis('off')\n",
    "plt.show()"
   ]
  },
  {
   "cell_type": "code",
   "execution_count": null,
   "id": "c4d9e66f",
   "metadata": {},
   "outputs": [],
   "source": [
    "fig, axes = plt.subplots(figsize=(30,8), ncols=4, nrows=1)\n",
    "for i, snapshot_date in enumerate(merged['snapshot_date'].unique()):\n",
    "    merged_snapshot = merged[merged['snapshot_date'] == snapshot_date]\n",
    "    merged_snapshot.plot(\n",
    "        column='avg_price',\n",
    "        cmap='OrRd',\n",
    "        linewidth=0.8,\n",
    "        edgecolor='0.8',\n",
    "        legend=True,\n",
    "        ax=axes[i]\n",
    "    )\n",
    "    axes[i].set_title(f\"Average Price by Neighborhood - Venice - {snapshot_date}\", fontsize=14)\n",
    "    axes[i].axis('off')\n",
    "plt.show()"
   ]
  },
  {
   "cell_type": "markdown",
   "id": "fafb3a1a",
   "metadata": {},
   "source": [
    "The average price at snapshot date 2025-09-11 looks a little bit off, it has only a small neighborhood with very high average price while other neighborhoods have relatively low average prices. Let's try removing the outlier and see if it improves the overall trend."
   ]
  },
  {
   "cell_type": "code",
   "execution_count": null,
   "id": "f9e792f3",
   "metadata": {},
   "outputs": [],
   "source": [
    "snapshot_date = merged['snapshot_date'].unique()[-1]\n",
    "merged_snapshot = merged[merged['snapshot_date'] == snapshot_date].copy()\n",
    "# Remove outliers in average price (above 95 percentile)\n",
    "merged_snapshot = merged_snapshot[merged_snapshot['avg_price'] < merged_snapshot['avg_price'].quantile(0.95)]\n",
    "\n",
    "fig, axes = plt.subplots(figsize=(8,8))\n",
    "merged_snapshot.plot(\n",
    "    column='avg_price',\n",
    "    cmap='OrRd',\n",
    "    linewidth=0.8,\n",
    "    edgecolor='0.8',\n",
    "    legend=True,\n",
    "    ax=axes\n",
    ")\n",
    "axes.set_title(f\"Average Price - Venice - {snapshot_date}\", fontsize=14)\n",
    "axes.axis('off')\n",
    "plt.show()"
   ]
  },
  {
   "cell_type": "markdown",
   "id": "1499b233",
   "metadata": {},
   "source": [
    "Yes, after removing the outlier, the average prices across neighborhoods appear more balanced and consistent with expected trends. The visualization now shows a clearer distribution of average prices without the distortion caused by the outlier."
   ]
  },
  {
   "cell_type": "code",
   "execution_count": null,
   "id": "2109368e",
   "metadata": {},
   "outputs": [],
   "source": [
    "fig, axes = plt.subplots(figsize=(30,8), ncols=4, nrows=1)\n",
    "for i, snapshot_date in enumerate(merged['snapshot_date'].unique()):\n",
    "    merged_snapshot = merged[merged['snapshot_date'] == snapshot_date]\n",
    "    merged_snapshot.plot(\n",
    "        column='avg_availability',\n",
    "        cmap='OrRd',\n",
    "        linewidth=0.8,\n",
    "        edgecolor='0.8',\n",
    "        vmax=90,\n",
    "        legend=True,\n",
    "        ax=axes[i]\n",
    "    )\n",
    "    axes[i].set_title(f\"Average availability by Neighborhood - Venice - {snapshot_date}\", fontsize=14)\n",
    "    axes[i].axis('off')\n",
    "plt.show()"
   ]
  },
  {
   "cell_type": "code",
   "execution_count": null,
   "id": "9b092a21",
   "metadata": {},
   "outputs": [],
   "source": [
    "fig, axes = plt.subplots(figsize=(8,8))\n",
    "snapshot_date = merged['snapshot_date'].unique()[0]\n",
    "merged_snapshot = merged[merged['snapshot_date'] == snapshot_date]\n",
    "merged_snapshot.plot(\n",
    "    column='avg_min_nights',\n",
    "    cmap='OrRd',\n",
    "    linewidth=0.8,\n",
    "    edgecolor='0.8',\n",
    "    legend=True,\n",
    "    ax=axes\n",
    ")\n",
    "axes.set_title(f\"Average Minimum Nights - Venice - {snapshot_date}\", fontsize=14)\n",
    "axes.axis('off')\n",
    "plt.show()"
   ]
  },
  {
   "cell_type": "code",
   "execution_count": null,
   "id": "45e204e6",
   "metadata": {},
   "outputs": [],
   "source": [
    "summary = merged.copy()"
   ]
  },
  {
   "cell_type": "code",
   "execution_count": null,
   "id": "97c66f78",
   "metadata": {},
   "outputs": [],
   "source": [
    "import json\n",
    "import plotly.express as px"
   ]
  },
  {
   "cell_type": "code",
   "execution_count": null,
   "id": "b4ef6446",
   "metadata": {},
   "outputs": [],
   "source": [
    "# 1) Ensure GeoDataFrame uses WGS84 (lat/lon)\n",
    "summary = summary.to_crs(epsg=4326)\n",
    "\n",
    "# 2) Make sure the join key is a string and normalized\n",
    "summary['neighbourhood'] = summary['neighbourhood'].astype(str).str.strip()\n",
    "\n",
    "# 3) Export GeoDataFrame to GeoJSON (as dict)\n",
    "geojson = json.loads(summary.to_json())\n",
    "\n",
    "# 4) Plot — use featureidkey that points to property name in geojson (\"properties.neighbourhood\")\n",
    "fig = px.choropleth_map(\n",
    "    summary,                          # DataFrame\n",
    "    geojson=geojson,                 # GeoJSON dict\n",
    "    locations='neighbourhood',       # column in DataFrame that matches feature property\n",
    "    color='density_listings_per_km2',\n",
    "    featureidkey='properties.neighbourhood',\n",
    "    hover_name='neighbourhood',\n",
    "    hover_data=['n_listings', 'avg_price', 'area_km2', 'avg_min_nights'],\n",
    "    center={\"lat\": 45.44, \"lon\": 12.33},\n",
    "    animation_frame=\"snapshot_date\",\n",
    "    zoom=11,\n",
    "    color_continuous_scale=\"YlOrRd\",\n",
    ")\n",
    "fig.update_layout(margin={\"r\":0,\"t\":0,\"l\":0,\"b\":0})\n",
    "fig.show()"
   ]
  },
  {
   "cell_type": "markdown",
   "id": "90d11eb6",
   "metadata": {},
   "source": [
    "### Comparision"
   ]
  },
  {
   "cell_type": "code",
   "execution_count": null,
   "id": "c3c55afd",
   "metadata": {},
   "outputs": [],
   "source": [
    "import geopandas as gpd\n",
    "import pandas as pd\n",
    "import numpy as np\n",
    "import matplotlib.pyplot as plt\n",
    "import seaborn as sns"
   ]
  },
  {
   "cell_type": "code",
   "execution_count": null,
   "id": "11aff34e",
   "metadata": {},
   "outputs": [],
   "source": [
    "# Load geojson file for neighbourhoods\n",
    "geo = gpd.read_file('./airbnb_data/neighbourhoods.geojson')\n",
    "\n",
    "# Project to meters system for accurate area calculation\n",
    "geo = geo.to_crs(epsg=3857)\n",
    "\n",
    "# Dissolve to get area per neighbourhood\n",
    "geo_dissolved = geo.dissolve(by='neighbourhood', as_index=False)\n",
    "\n",
    "# Calculate area in square kilometers\n",
    "geo_dissolved['area_km2'] = geo_dissolved['geometry'].area / 10**6"
   ]
  },
  {
   "cell_type": "code",
   "execution_count": null,
   "id": "fb83ea16",
   "metadata": {},
   "outputs": [],
   "source": [
    "df = pd.read_csv('./airbnb_data/airbnb_neighbourhood_summary.csv')\n",
    "\n",
    "merged = geo_dissolved.merge(df, left_on='neighbourhood', right_on='neighbourhood_cleansed', how='right')\n",
    "\n",
    "# Calculate density metrics\n",
    "merged[\"density_listings_per_km2\"] = merged[\"n_listings\"] / merged[\"area_km2\"]\n",
    "\n",
    "# Calculate log density metrics to reduce skewness\n",
    "merged[\"log_density\"] = np.log1p(merged[\"density_listings_per_km2\"])\n",
    "\n",
    "# Let's take 2024-12-07 snapshot as main comparison\n",
    "snapshot_date = '2024-12-07'\n",
    "summary = merged[merged['snapshot_date'] == snapshot_date].copy()"
   ]
  },
  {
   "cell_type": "code",
   "execution_count": null,
   "id": "944e48aa",
   "metadata": {},
   "outputs": [],
   "source": [
    "# Let's take a look at the data\n",
    "summary.head()"
   ]
  },
  {
   "cell_type": "code",
   "execution_count": null,
   "id": "24d2db39",
   "metadata": {},
   "outputs": [],
   "source": [
    "# Bar plot of top 10 average price per neighborhood\n",
    "compared = summary.sort_values(by='avg_price', ascending=False)\n",
    "plt.figure(figsize=(12, 6))\n",
    "plt.bar(compared['neighbourhood_cleansed'][:20], compared['avg_price'][:20], color='skyblue')\n",
    "plt.xticks(rotation=90)\n",
    "plt.title('Average Price per Neighborhood in Venice')\n",
    "plt.xlabel('Neighborhood')\n",
    "plt.ylabel('Average Price')\n",
    "plt.tight_layout()\n",
    "plt.show()"
   ]
  },
  {
   "cell_type": "code",
   "execution_count": null,
   "id": "b19ce3dd",
   "metadata": {},
   "outputs": [],
   "source": [
    "# Bar plot of top 10 density listings per km2 per neighborhood\n",
    "compared = summary.sort_values(by='density_listings_per_km2', ascending=False)\n",
    "plt.figure(figsize=(12, 6))\n",
    "plt.bar(compared['neighbourhood_cleansed'][:20], compared['density_listings_per_km2'][:20], color='skyblue')\n",
    "plt.xticks(rotation=90)\n",
    "plt.title('Density of Listings per km2 by Neighborhood in Venice')\n",
    "plt.xlabel('Neighborhood')\n",
    "plt.ylabel('Density (Listings per km2)')\n",
    "plt.tight_layout()\n",
    "plt.show()"
   ]
  },
  {
   "cell_type": "code",
   "execution_count": null,
   "id": "c32ea9e0",
   "metadata": {},
   "outputs": [],
   "source": [
    "# Bar plot of top 10 average availability per neighborhood\n",
    "compared = summary.sort_values(by='avg_availability', ascending=False)\n",
    "plt.figure(figsize=(12, 6))\n",
    "plt.bar(compared['neighbourhood_cleansed'][:20], compared['avg_availability'][:20], color='skyblue')\n",
    "plt.xticks(rotation=90)\n",
    "plt.title('Average Availability by Neighborhood in Venice')\n",
    "plt.xlabel('Neighborhood')\n",
    "plt.ylabel('Average Availability')\n",
    "plt.tight_layout()\n",
    "plt.show()"
   ]
  },
  {
   "cell_type": "markdown",
   "id": "0ba9efba",
   "metadata": {},
   "source": [
    "Those above looks a little bit off, let's do some comparision to verify."
   ]
  },
  {
   "cell_type": "code",
   "execution_count": null,
   "id": "8b0387a0",
   "metadata": {},
   "outputs": [],
   "source": [
    "# Take top 20 neighborhoods by density first\n",
    "top20_density = summary.sort_values(by='density_listings_per_km2', ascending=False).head(20)\n",
    "\n",
    "# From there, take top 10 by average price\n",
    "top10_price = top20_density.sort_values(by='avg_price', ascending=False).head(10)\n",
    "\n",
    "# Let's plot them!\n",
    "plt.figure(figsize=(10, 6))\n",
    "plt.bar(top10_price['neighbourhood_cleansed'], top10_price['avg_price'], color='skyblue')\n",
    "plt.axhline(y=150, color='r', linestyle='--')\n",
    "plt.xticks(rotation=90)\n",
    "plt.title('Top 10 Neighborhoods by Average Price among Top 20 by Listing Density in Venice')\n",
    "plt.xlabel('Neighborhood')\n",
    "plt.ylabel('Average Price')\n",
    "plt.tight_layout()\n",
    "plt.show()"
   ]
  },
  {
   "cell_type": "code",
   "execution_count": null,
   "id": "fcafc9da",
   "metadata": {},
   "outputs": [],
   "source": [
    "# Bar plot of top 10 density \n",
    "top10_price_sorted = top10_price.sort_values(by='density_listings_per_km2', ascending=False)\n",
    "plt.figure(figsize=(10, 6))\n",
    "plt.bar(top10_price_sorted['neighbourhood_cleansed'], top10_price_sorted['density_listings_per_km2'], color='skyblue')\n",
    "plt.axhline(y=200, color='r', linestyle='--')\n",
    "plt.xticks(rotation=90)\n",
    "plt.title('Listing Density among Top 10 Neighborhoods by Average Price in Venice')\n",
    "plt.xlabel('Neighborhood')\n",
    "plt.ylabel('Density (Listings per km2)')\n",
    "plt.tight_layout()\n",
    "plt.show()"
   ]
  },
  {
   "cell_type": "code",
   "execution_count": null,
   "id": "54ed5cbe",
   "metadata": {},
   "outputs": [],
   "source": [
    "# Plot the heatmap of correlation matrix\n",
    "plt.figure(figsize=(10, 8))\n",
    "correlation_matrix = summary[['avg_price', 'avg_availability', 'avg_min_nights', 'density_listings_per_km2']].corr()\n",
    "sns.heatmap(correlation_matrix, annot=True, cmap='coolwarm', fmt=\".2f\")\n",
    "plt.title('Correlation Matrix of Key Variables in Venice')\n",
    "plt.show()  "
   ]
  },
  {
   "cell_type": "markdown",
   "id": "5aaef2b9",
   "metadata": {},
   "source": [
    "Wow! The average price has a strong positive correlation with the density of listings per km2 and the average minimum nights. This means that neighborhoods with higher density of listings tend to have higher average prices. "
   ]
  },
  {
   "cell_type": "code",
   "execution_count": null,
   "id": "90c6c927",
   "metadata": {},
   "outputs": [],
   "source": [
    "# Let's plot correlation of average price vs density listings per km2\n",
    "plt.figure(figsize=(10, 6))\n",
    "sns.scatterplot(data=summary, x='density_listings_per_km2', y='avg_price', color='blue')\n",
    "plt.title('Average Price vs Density Listings per km2 in Venice')\n",
    "plt.xlabel('Density Listings per km2')\n",
    "plt.ylabel('Average Price')\n",
    "plt.show()"
   ]
  },
  {
   "cell_type": "code",
   "execution_count": null,
   "id": "6a53fdbe",
   "metadata": {},
   "outputs": [],
   "source": [
    "# Correlation of average price and average minimum nights\n",
    "plt.figure(figsize=(10, 6))\n",
    "sns.scatterplot(data=summary, x='avg_min_nights', y='avg_price', color='green')\n",
    "plt.title('Average Price vs Average Minimum Nights in Venice')\n",
    "plt.xlabel('Average Minimum Nights')\n",
    "plt.ylabel('Average Price')\n",
    "plt.show()"
   ]
  },
  {
   "cell_type": "markdown",
   "id": "12ebf53e",
   "metadata": {},
   "source": [
    "### Predictive"
   ]
  },
  {
   "cell_type": "code",
   "execution_count": null,
   "id": "1713ab35",
   "metadata": {},
   "outputs": [],
   "source": [
    "import pandas as pd\n",
    "import numpy as np\n",
    "import statsmodels.api as sm\n",
    "import matplotlib.pyplot as plt"
   ]
  },
  {
   "cell_type": "code",
   "execution_count": null,
   "id": "f3fc5afc",
   "metadata": {},
   "outputs": [],
   "source": [
    "df = pd.read_csv('./airbnb_data/merged_calendar_summary.csv',parse_dates=['date'])\n",
    "df.head()"
   ]
  },
  {
   "cell_type": "markdown",
   "id": "8866a3a2",
   "metadata": {},
   "source": [
    "#### San Marco"
   ]
  },
  {
   "cell_type": "code",
   "execution_count": null,
   "id": "f55764cd",
   "metadata": {},
   "outputs": [],
   "source": [
    "small_df = df[df['neighbourhood_cleansed'] == 'San Marco']\n",
    "small_df.head()"
   ]
  },
  {
   "cell_type": "code",
   "execution_count": null,
   "id": "548f2ffb",
   "metadata": {},
   "outputs": [],
   "source": [
    "# Plot price trend over time\n",
    "plt.figure(figsize=(12,6))\n",
    "plt.plot(small_df['date'], small_df['avg_price_calendar'], marker='o', linestyle='-')\n",
    "plt.title('Average Price Trend Over Time - San Marco')\n",
    "plt.xlabel('Date')\n",
    "plt.ylabel('Average Price')\n",
    "plt.grid()\n",
    "plt.show()"
   ]
  },
  {
   "cell_type": "code",
   "execution_count": null,
   "id": "0300eff8",
   "metadata": {},
   "outputs": [],
   "source": [
    "# Plot occupancy trend over time\n",
    "plt.figure(figsize=(12,6))\n",
    "plt.plot(small_df['date'], small_df['occupancy_rate'], marker='o', linestyle='-', color='orange')\n",
    "plt.title('Average Occupancy Trend Over Time - San Marco')\n",
    "plt.xlabel('Date')\n",
    "plt.ylabel('Average Occupancy Rate')\n",
    "plt.grid()\n",
    "plt.show()"
   ]
  },
  {
   "cell_type": "markdown",
   "id": "e1a1da53",
   "metadata": {},
   "source": [
    "#### San Polo"
   ]
  },
  {
   "cell_type": "code",
   "execution_count": null,
   "id": "bd4e8635",
   "metadata": {},
   "outputs": [],
   "source": [
    "small_df = df[df['neighbourhood_cleansed'] == 'San Polo']\n",
    "small_df.head()"
   ]
  },
  {
   "cell_type": "code",
   "execution_count": null,
   "id": "249ea173",
   "metadata": {},
   "outputs": [],
   "source": [
    "# Plot price trend over time\n",
    "plt.figure(figsize=(12,6))\n",
    "plt.plot(small_df['date'], small_df['avg_price_calendar'], marker='o', linestyle='-')\n",
    "plt.title('Average Price Trend Over Time - San Polo')\n",
    "plt.xlabel('Date')\n",
    "plt.ylabel('Average Price')\n",
    "plt.grid()\n",
    "plt.show()"
   ]
  },
  {
   "cell_type": "code",
   "execution_count": null,
   "id": "6a1ca5a0",
   "metadata": {},
   "outputs": [],
   "source": [
    "# Plot occupancy trend over time\n",
    "plt.figure(figsize=(12,6))\n",
    "plt.plot(small_df['date'], small_df['occupancy_rate'], marker='o', linestyle='-', color='orange')\n",
    "plt.title('Average Occupancy Trend Over Time - San Polo')\n",
    "plt.xlabel('Date')\n",
    "plt.ylabel('Average Occupancy Rate')\n",
    "plt.grid()\n",
    "plt.show()"
   ]
  },
  {
   "cell_type": "markdown",
   "id": "ed726757",
   "metadata": {},
   "source": [
    "### External"
   ]
  },
  {
   "cell_type": "code",
   "execution_count": null,
   "id": "2efb8263",
   "metadata": {},
   "outputs": [],
   "source": [
    "import pandas as pd\n",
    "import matplotlib.pyplot as plt\n",
    "import numpy as np\n",
    "import statsmodels.api as sm\n",
    "import seaborn as sns"
   ]
  },
  {
   "cell_type": "code",
   "execution_count": null,
   "id": "a06393ff",
   "metadata": {},
   "outputs": [],
   "source": [
    "df_all = pd.read_csv('./airbnb_data/immobiliare_venice_price_trends.csv', parse_dates=['timestamp'])\n",
    "df_all.head()"
   ]
  },
  {
   "cell_type": "code",
   "execution_count": null,
   "id": "896234b3",
   "metadata": {},
   "outputs": [],
   "source": [
    "df_all_small = df_all[df_all['neighborhood'] == 'san-polo-santa-croce']\n",
    "df_all_small.head()"
   ]
  },
  {
   "cell_type": "code",
   "execution_count": null,
   "id": "67c649ae",
   "metadata": {},
   "outputs": [],
   "source": [
    "# Let's plot the price trend over time from mid 2024 to now\n",
    "plt.figure(figsize=(12,6))\n",
    "plt.plot(df_all_small['timestamp'][80:], df_all_small['values'][80:], marker='o', linestyle='-')\n",
    "plt.title('Average Property Price Trend Over Time - San Polo Santa Croce')\n",
    "plt.xlabel('Date')\n",
    "plt.ylabel('Average Property Price')\n",
    "plt.grid()\n",
    "plt.show()"
   ]
  },
  {
   "cell_type": "code",
   "execution_count": null,
   "id": "aa3249dc",
   "metadata": {},
   "outputs": [],
   "source": [
    "df = pd.read_csv('./airbnb_data/merged_calendar_summary.csv',parse_dates=['date'])\n",
    "df.head()"
   ]
  },
  {
   "cell_type": "code",
   "execution_count": null,
   "id": "a4ca8025",
   "metadata": {},
   "outputs": [],
   "source": [
    "small_df = df[df['neighbourhood_cleansed'].isin(['San Polo', 'Santa Croce'])]\n",
    "small_df"
   ]
  },
  {
   "cell_type": "code",
   "execution_count": null,
   "id": "7b916dac",
   "metadata": {},
   "outputs": [],
   "source": [
    "small_df['month_year'] = small_df['date'].dt.to_period(\"M\")"
   ]
  },
  {
   "cell_type": "code",
   "execution_count": null,
   "id": "24817431",
   "metadata": {},
   "outputs": [],
   "source": [
    "monthly = (\n",
    "    small_df.groupby([\"month_year\"], as_index=False)\n",
    "         .agg({\"avg_price_calendar\": \"mean\", \"occupancy_rate\": \"mean\"})\n",
    ")"
   ]
  },
  {
   "cell_type": "code",
   "execution_count": null,
   "id": "91f222a8",
   "metadata": {},
   "outputs": [],
   "source": [
    "# Plot price trend over time\n",
    "plt.figure(figsize=(12,6))\n",
    "plt.plot(monthly['month_year'].astype(str), monthly['avg_price_calendar'], marker='o', linestyle='-')\n",
    "plt.title('Average Price Trend Over Time - San Polo & Santa Croce')\n",
    "plt.xlabel('Month-Year')\n",
    "plt.ylabel('Average Price')\n",
    "plt.grid()\n",
    "plt.show()  "
   ]
  },
  {
   "cell_type": "code",
   "execution_count": null,
   "id": "8a53210e",
   "metadata": {},
   "outputs": [],
   "source": [
    "small_df_all = df_all[df_all['neighborhood'] == 'san-polo-santa-croce']\n",
    "small_df_all['month_year'] = small_df_all['timestamp'].dt.to_period('M')"
   ]
  },
  {
   "cell_type": "code",
   "execution_count": null,
   "id": "d9cd812d",
   "metadata": {},
   "outputs": [],
   "source": [
    "merged = monthly.merge(small_df_all, on=[\"month_year\"], how=\"inner\")"
   ]
  },
  {
   "cell_type": "code",
   "execution_count": null,
   "id": "b5cdd51d",
   "metadata": {},
   "outputs": [],
   "source": [
    "merged"
   ]
  },
  {
   "cell_type": "code",
   "execution_count": null,
   "id": "8681d2b3",
   "metadata": {},
   "outputs": [],
   "source": [
    "# Plot correlation between Airbnb avg price and Immobiliare avg price\n",
    "plt.figure(figsize=(10, 8))\n",
    "correlation_matrix = merged[['values', 'avg_price_calendar']].corr()\n",
    "sns.heatmap(correlation_matrix, annot=True, cmap='coolwarm', fmt=\".2f\")\n",
    "plt.title('Correlation Matrix of Airbnb and Immobiliare Average Prices of San Polo & Santa Croce')\n",
    "plt.show()  "
   ]
  }
 ],
 "metadata": {
  "kernelspec": {
   "display_name": "ml_env",
   "language": "python",
   "name": "python3"
  },
  "language_info": {
   "codemirror_mode": {
    "name": "ipython",
    "version": 3
   },
   "file_extension": ".py",
   "mimetype": "text/x-python",
   "name": "python",
   "nbconvert_exporter": "python",
   "pygments_lexer": "ipython3",
   "version": "3.10.18"
  }
 },
 "nbformat": 4,
 "nbformat_minor": 5
}
